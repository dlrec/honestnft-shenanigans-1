{
 "cells": [
  {
   "cell_type": "markdown",
   "metadata": {},
   "source": [
    "This notebook allows to easily fetch a NFT collection metadata from various NFT Tool\n",
    "\n",
    "#### Available aggregators:\n",
    "- **nftnerds** (default setting) https://nftnerds.ai/\n",
    "- **raritytools** https://rarity.tools/\n",
    "- **alphasharks** https://www.alphasharks.io/"
   ]
  },
  {
   "cell_type": "code",
   "execution_count": 1,
   "metadata": {},
   "outputs": [],
   "source": [
    "# Parameter settings\n",
    "CONTRACT_ADDRESS = \"0x85f740958906b317de6ed79663012859067e745b\"\n",
    "COLLECTION_NAME = \"\"  # Set to \"\" to fetch collection slug from OpenSea\n",
    "METADATA_AGGREGATOR = \"rt\""
   ]
  },
  {
   "cell_type": "code",
   "execution_count": null,
   "metadata": {},
   "outputs": [],
   "source": [
    "from pull_from_metadata_aggregators import get_metadata_from_aggregator\n",
    "\n",
    "get_metadata_from_aggregator(\n",
    "    contract_address=CONTRACT_ADDRESS,\n",
    "    metadata_source=METADATA_AGGREGATOR,\n",
    "    collection_name=COLLECTION_NAME,\n",
    ")"
   ]
  }
 ],
 "metadata": {
  "kernelspec": {
   "display_name": "Python 3.8.10 64-bit",
   "language": "python",
   "name": "python3"
  },
  "language_info": {
   "codemirror_mode": {
    "name": "ipython",
    "version": 3
   },
   "file_extension": ".py",
   "mimetype": "text/x-python",
   "name": "python",
   "nbconvert_exporter": "python",
   "pygments_lexer": "ipython3",
   "version": "3.8.10"
  },
  "orig_nbformat": 4,
  "vscode": {
   "interpreter": {
    "hash": "916dbcbb3f70747c44a77c7bcd40155683ae19c65e1c03b4aa3499c5328201f1"
   }
  }
 },
 "nbformat": 4,
 "nbformat_minor": 2
}
